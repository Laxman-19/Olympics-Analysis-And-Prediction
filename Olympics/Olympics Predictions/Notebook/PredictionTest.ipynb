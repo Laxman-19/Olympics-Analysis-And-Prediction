{
 "cells": [
  {
   "cell_type": "code",
   "execution_count": 1,
   "id": "6950dc33",
   "metadata": {},
   "outputs": [],
   "source": [
    "import AthletePrediction as ap"
   ]
  },
  {
   "cell_type": "code",
   "execution_count": 2,
   "id": "75d7ad3f",
   "metadata": {},
   "outputs": [
    {
     "name": "stdout",
     "output_type": "stream",
     "text": [
      "Enter the Athlete's Age: 25\n",
      "Enter the Athlete's Gender: Female\n",
      "Enter the Athlete's Height cm: 123\n",
      "Enter the Athlete's Weight lbs: 134\n",
      "Enter the Athlete's Country: India\n",
      "Enter the Athlete's Sport: Football\n"
     ]
    },
    {
     "data": {
      "text/plain": [
       "'Congratulations! You are 84% likely to win a Gold Medal!'"
      ]
     },
     "execution_count": 2,
     "metadata": {},
     "output_type": "execute_result"
    }
   ],
   "source": [
    "ap.AthletePred()"
   ]
  },
  {
   "cell_type": "code",
   "execution_count": null,
   "id": "a7ee9225",
   "metadata": {},
   "outputs": [],
   "source": []
  }
 ],
 "metadata": {
  "kernelspec": {
   "display_name": "Python 3 (ipykernel)",
   "language": "python",
   "name": "python3"
  },
  "language_info": {
   "codemirror_mode": {
    "name": "ipython",
    "version": 3
   },
   "file_extension": ".py",
   "mimetype": "text/x-python",
   "name": "python",
   "nbconvert_exporter": "python",
   "pygments_lexer": "ipython3",
   "version": "3.10.9"
  }
 },
 "nbformat": 4,
 "nbformat_minor": 5
}
